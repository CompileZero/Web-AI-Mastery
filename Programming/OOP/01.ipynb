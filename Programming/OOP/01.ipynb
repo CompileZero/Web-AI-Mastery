{
 "metadata": {
  "language_info": {
   "codemirror_mode": {
    "name": "ipython",
    "version": 3
   },
   "file_extension": ".py",
   "mimetype": "text/x-python",
   "name": "python",
   "nbconvert_exporter": "python",
   "pygments_lexer": "ipython3",
   "version": "3.8.5-final"
  },
  "orig_nbformat": 2,
  "kernelspec": {
   "name": "python3",
   "display_name": "Python 3"
  }
 },
 "nbformat": 4,
 "nbformat_minor": 2,
 "cells": [
  {
   "source": [
    "## Object Oriented Programming in Python\n",
    "\n",
    "*TODO:*\n",
    "* Code Snippet to Notion\n",
    "\n",
    "Source:\n",
    "* 1. Educative.io - Learn Object-Oriented Programming in Python Course"
   ],
   "cell_type": "markdown",
   "metadata": {}
  },
  {
   "cell_type": "code",
   "execution_count": 5,
   "metadata": {},
   "outputs": [
    {
     "output_type": "stream",
     "name": "stdout",
     "text": [
      "Team Members P1: ['Atharva']\nTeam Members P2: ['Atharva', 'Tapan']\nDemo Method, Team Name: Liverpool\nTapan\nAtharva\nKulkarni\nLiverpool Liverpool\n"
     ]
    }
   ],
   "source": [
    "class Player:\n",
    "    teamName = 'Liverpool'\n",
    "    teamMembers = []\n",
    "\n",
    "    def __init__(self, name):\n",
    "        self.name = name\n",
    "        self.formerTeams = []\n",
    "        self.teamMembers.append(self.name)\n",
    "    \n",
    "    @classmethod\n",
    "    def demo(cls):\n",
    "        return cls.teamName\n",
    "\n",
    "p1 = Player(\"Atharva\")\n",
    "\n",
    "print(f'Team Members P1: {p1.teamMembers}')\n",
    "\n",
    "p2 = Player(\"Tapan\")\n",
    "print(f'Team Members P2: {p2.teamMembers}')\n",
    "\n",
    "print(f'Demo Method, Team Name: {Player.demo()}')\n",
    "\n",
    "\n",
    "print(p2.name)\n",
    "print(p1.name)\n",
    "\n",
    "p1.name = \"Kulkarni\"\n",
    "print(p1.name)\n",
    "\n",
    "print(f'{p1.teamName} {p2.teamName}')"
   ]
  },
  {
   "cell_type": "code",
   "execution_count": null,
   "metadata": {},
   "outputs": [],
   "source": []
  }
 ]
}