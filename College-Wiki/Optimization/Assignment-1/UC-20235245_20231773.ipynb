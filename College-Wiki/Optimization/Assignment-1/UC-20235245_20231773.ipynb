{
 "cells": [
  {
   "cell_type": "code",
   "execution_count": 1,
   "metadata": {},
   "outputs": [
    {
     "output_type": "stream",
     "name": "stdout",
     "text": [
      "Num of Constraints:  24\nA0 = 51.0; coefficient 1.4\nA1 = 36.0; coefficient 1.4\nA2 = 36.0; coefficient 1.4\nA3 = 28.0; coefficient 1.4\nA4 = 15.0; coefficient 1.4\nA5 = 10.0; coefficient 1.4\nA6 = 57.0; coefficient 1.4\nA7 = 93.0; coefficient 1.4\nA8 = 97.0; coefficient 1.4\nA9 = 94.0; coefficient 1.4\nA10 = 94.0; coefficient 1.4\nA11 = 92.0; coefficient 1.4\nA12 = 88.0; coefficient 1.4\nA13 = 86.0; coefficient 1.4\nA14 = 82.0; coefficient 1.4\nA15 = 82.0; coefficient 1.4\nA16 = 82.0; coefficient 1.4\nA17 = 99.0; coefficient 1.4\nA18 = 100.0; coefficient 1.4\nA19 = 100.0; coefficient 1.4\nA20 = 100.0; coefficient 1.4\nA21 = 86.0; coefficient 1.4\nA22 = 69.0; coefficient 1.4\nA23 = 53.0; coefficient 1.4\nB0 = 10.0; coefficient 1.4\nB1 = 10.0; coefficient 1.4\nB2 = 10.0; coefficient 1.4\nB3 = 10.0; coefficient 1.4\nB4 = 10.0; coefficient 1.4\nB5 = 10.0; coefficient 1.4\nB6 = 10.0; coefficient 1.4\nB7 = 10.0; coefficient 1.4\nB8 = 10.0; coefficient 1.4\nB9 = 10.0; coefficient 1.4\nB10 = 10.0; coefficient 1.4\nB11 = 10.0; coefficient 1.4\nB12 = 10.0; coefficient 1.4\nB13 = 10.0; coefficient 1.4\nB14 = 10.0; coefficient 1.4\nB15 = 10.0; coefficient 1.4\nB16 = 10.0; coefficient 1.4\nB17 = 10.0; coefficient 1.4\nB18 = 18.0; coefficient 1.4\nB19 = 17.0; coefficient 1.4\nB20 = 15.0; coefficient 1.4\nB21 = 10.0; coefficient 1.4\nB22 = 10.0; coefficient 1.4\nB23 = 10.0; coefficient 1.4\nC0 = 10.0; coefficient 1.4\nC1 = 10.0; coefficient 1.4\nC2 = 10.0; coefficient 1.4\nC3 = 10.0; coefficient 1.4\nC4 = 10.0; coefficient 1.4\nC5 = 10.0; coefficient 1.4\nC6 = 10.0; coefficient 1.4\nC7 = 10.0; coefficient 1.4\nC8 = 10.0; coefficient 1.4\nC9 = 10.0; coefficient 1.4\nC10 = 10.0; coefficient 1.4\nC11 = 10.0; coefficient 1.4\nC12 = 10.0; coefficient 1.4\nC13 = 10.0; coefficient 1.4\nC14 = 10.0; coefficient 1.4\nC15 = 10.0; coefficient 1.4\nC16 = 10.0; coefficient 1.4\nC17 = 10.0; coefficient 1.4\nC18 = 10.0; coefficient 1.4\nC19 = 10.0; coefficient 1.4\nC20 = 10.0; coefficient 1.4\nC21 = 10.0; coefficient 1.4\nC22 = 10.0; coefficient 1.4\nC23 = 10.0; coefficient 1.4\nD0 = 1.0; coefficient 1.4\nD1 = 1.0; coefficient 1.4\nD2 = 1.0; coefficient 1.4\nD3 = 1.0; coefficient 1.4\nD4 = 1.0; coefficient 1.4\nD5 = 1.0; coefficient 1.4\nD6 = 1.0; coefficient 1.4\nD7 = 1.0; coefficient 1.4\nD8 = 1.0; coefficient 1.4\nD9 = 1.0; coefficient 1.4\nD10 = 1.0; coefficient 1.4\nD11 = 1.0; coefficient 1.4\nD12 = 1.0; coefficient 1.4\nD13 = 1.0; coefficient 1.4\nD14 = 1.0; coefficient 1.4\nD15 = 1.0; coefficient 1.4\nD16 = 1.0; coefficient 1.4\nD17 = 1.0; coefficient 1.4\nD18 = 1.0; coefficient 1.4\nD19 = 1.0; coefficient 1.4\nD20 = 1.0; coefficient 1.4\nD21 = 1.0; coefficient 1.4\nD22 = 1.0; coefficient 1.4\nD23 = 1.0; coefficient 1.4\nE = 589.0; coefficient 4.4\nF = 600.0; coefficient 4.4\nG = 100.0; coefficient 4.4\nH0 = 100.0; coefficient 9.1\nH1 = 100.0; coefficient 9.1\nH2 = 100.0; coefficient 9.1\nH3 = 100.0; coefficient 9.1\nH4 = 100.0; coefficient 9.1\nH5 = 100.0; coefficient 9.1\nH6 = 100.0; coefficient 9.1\nH7 = 100.0; coefficient 9.1\nH8 = 100.0; coefficient 9.1\nH9 = 100.0; coefficient 9.1\nH10 = 100.0; coefficient 9.1\nH11 = 100.0; coefficient 9.1\nH12 = 100.0; coefficient 9.1\nH13 = 100.0; coefficient 9.1\nH14 = 100.0; coefficient 9.1\nH15 = 100.0; coefficient 9.1\nH16 = 100.0; coefficient 9.1\nH17 = 100.0; coefficient 9.1\nH18 = 100.0; coefficient 9.1\nH19 = 100.0; coefficient 9.1\nH20 = 100.0; coefficient 9.1\nH21 = 100.0; coefficient 9.1\nH22 = 100.0; coefficient 9.1\nH23 = 100.0; coefficient 9.1\nI0 = 0.0; coefficient 6.6\nI1 = 0.0; coefficient 6.6\nI2 = 0.0; coefficient 6.6\nI3 = 0.0; coefficient 6.6\nI4 = 0.0; coefficient 6.6\nI5 = 0.0; coefficient 6.6\nI6 = 0.0; coefficient 6.6\nI7 = 0.0; coefficient 6.6\nI8 = 0.0; coefficient 6.6\nI9 = 0.0; coefficient 6.6\nI10 = 0.0; coefficient 6.6\nI11 = 0.0; coefficient 6.6\nI12 = 0.0; coefficient 6.6\nI13 = 0.0; coefficient 6.6\nI14 = 0.0; coefficient 6.6\nI15 = 0.0; coefficient 6.6\nI16 = 0.0; coefficient 6.6\nI17 = 0.0; coefficient 6.6\nI18 = 0.0; coefficient 6.6\nI19 = 0.0; coefficient 6.6\nI20 = 0.0; coefficient 6.6\nI21 = 0.0; coefficient 6.6\nI22 = 0.0; coefficient 6.6\nI23 = 0.0; coefficient 6.6\nJ0 = 0.0; coefficient 6.6\nJ1 = 0.0; coefficient 6.6\nJ2 = 0.0; coefficient 6.6\nJ3 = 0.0; coefficient 6.6\nJ4 = 0.0; coefficient 6.6\nJ5 = 0.0; coefficient 6.6\nJ6 = 0.0; coefficient 6.6\nJ7 = 0.0; coefficient 6.6\nJ8 = 0.0; coefficient 6.6\nJ9 = 0.0; coefficient 6.6\nJ10 = 0.0; coefficient 6.6\nJ11 = 0.0; coefficient 6.6\nJ12 = 0.0; coefficient 6.6\nJ13 = 0.0; coefficient 6.6\nJ14 = 0.0; coefficient 6.6\nJ15 = 0.0; coefficient 6.6\nJ16 = 0.0; coefficient 6.6\nJ17 = 0.0; coefficient 6.6\nJ18 = 0.0; coefficient 6.6\nJ19 = 0.0; coefficient 6.6\nJ20 = 0.0; coefficient 6.6\nJ21 = 0.0; coefficient 6.6\nJ22 = 0.0; coefficient 6.6\nJ23 = 0.0; coefficient 6.6\nOptimal objective value = 30667.2\n"
     ]
    },
    {
     "output_type": "error",
     "ename": "ValueError",
     "evalue": "",
     "traceback": [
      "\u001b[0;31m---------------------------------------------------------------------------\u001b[0m",
      "\u001b[0;31mValueError\u001b[0m                                Traceback (most recent call last)",
      "\u001b[0;32m<ipython-input-1-9639a0103743>\u001b[0m in \u001b[0;36m<module>\u001b[0;34m\u001b[0m\n\u001b[1;32m    171\u001b[0m \u001b[0;34m\u001b[0m\u001b[0m\n\u001b[1;32m    172\u001b[0m \u001b[0;34m\u001b[0m\u001b[0m\n\u001b[0;32m--> 173\u001b[0;31m \u001b[0mGenerator\u001b[0m\u001b[0;34m(\u001b[0m\u001b[0;34m)\u001b[0m\u001b[0;34m\u001b[0m\u001b[0;34m\u001b[0m\u001b[0m\n\u001b[0m",
      "\u001b[0;32m<ipython-input-1-9639a0103743>\u001b[0m in \u001b[0;36mGenerator\u001b[0;34m()\u001b[0m\n\u001b[1;32m    108\u001b[0m         \u001b[0mprint\u001b[0m\u001b[0;34m(\u001b[0m\u001b[0;34mf\"Optimal objective value = {solver.Objective().Value()}\"\u001b[0m\u001b[0;34m)\u001b[0m\u001b[0;34m\u001b[0m\u001b[0;34m\u001b[0m\u001b[0m\n\u001b[1;32m    109\u001b[0m \u001b[0;34m\u001b[0m\u001b[0m\n\u001b[0;32m--> 110\u001b[0;31m         \u001b[0mprint_solution_and_sensitivity\u001b[0m\u001b[0;34m(\u001b[0m\u001b[0msolver\u001b[0m\u001b[0;34m,\u001b[0m\u001b[0mobjective\u001b[0m\u001b[0;34m)\u001b[0m\u001b[0;34m\u001b[0m\u001b[0;34m\u001b[0m\u001b[0m\n\u001b[0m\u001b[1;32m    111\u001b[0m \u001b[0;34m\u001b[0m\u001b[0m\n\u001b[1;32m    112\u001b[0m     \u001b[0;32melse\u001b[0m\u001b[0;34m:\u001b[0m\u001b[0;34m\u001b[0m\u001b[0;34m\u001b[0m\u001b[0m\n",
      "\u001b[0;32m<ipython-input-1-9639a0103743>\u001b[0m in \u001b[0;36mprint_solution_and_sensitivity\u001b[0;34m(solver, objective)\u001b[0m\n\u001b[1;32m    158\u001b[0m                 \u001b[0mprint\u001b[0m\u001b[0;34m(\u001b[0m\u001b[0;34mf\"{binding} {c.name()}: {ctxt} = {a:.5} >= {c.lb():.5}; dual {c.DualValue():.5}; slack {a - c.lb():.5}\"\u001b[0m\u001b[0;34m)\u001b[0m\u001b[0;34m\u001b[0m\u001b[0;34m\u001b[0m\u001b[0m\n\u001b[1;32m    159\u001b[0m             \u001b[0;32melse\u001b[0m\u001b[0;34m:\u001b[0m\u001b[0;34m\u001b[0m\u001b[0;34m\u001b[0m\u001b[0m\n\u001b[0;32m--> 160\u001b[0;31m                 \u001b[0;32mraise\u001b[0m \u001b[0mValueError\u001b[0m\u001b[0;34m\u001b[0m\u001b[0;34m\u001b[0m\u001b[0m\n\u001b[0m\u001b[1;32m    161\u001b[0m \u001b[0;34m\u001b[0m\u001b[0m\n\u001b[1;32m    162\u001b[0m         \u001b[0;32melse\u001b[0m\u001b[0;34m:\u001b[0m\u001b[0;34m\u001b[0m\u001b[0;34m\u001b[0m\u001b[0m\n",
      "\u001b[0;31mValueError\u001b[0m: "
     ]
    }
   ],
   "source": [
    "from ortools.linear_solver import pywraplp\n",
    "import pandas as pd\n",
    "\"\"\"NUI Galway CT5141 Assignment 1 : Unit Commitment\n",
    "\n",
    "Student name(s): Galvin Venugopal, Atharva Kulkarni\n",
    "Student ID(s):     (20235245)        (20231773)\n",
    "\n",
    "We have a country with 10 generators of 4 types: Hydroelectric, Solid fuel, Gas, Solar\n",
    "* Minimize cost of electricity production per hour\n",
    "* How much electricity does each generator produce per hour\n",
    "\n",
    "Decision variables\n",
    "\n",
    "* A_1 to A_24 is the quantity of electricity produced by generator A during each hour of the day\n",
    "* B_1 to B_24 is the quantity of electricity produced by generator B during each hour of the day\n",
    "* C_1 to C_24 is the quantity of electricity produced by generator C during each hour of the day\n",
    "* D_1 to D_24 is the quantity of electricity produced by generator D during each hour of the day\n",
    "* E is the quantity of electricity produced by generator E during each hour of the day\n",
    "* F is the quantity of electricity produced by generator F during each hour of the day\n",
    "* G is the quantity of electricity produced by generator G during each hour of the day\n",
    "* H_1 to H_24 is the quantity of electricity produced by generator H during each hour of the day\n",
    "* I_1 to I_24 is the quantity of electricity produced by generator I during each hour of the day\n",
    "* J_1 to J_24 is the quantity of electricity produced by generator J during each hour of the day\n",
    "\n",
    "Objective Function\n",
    "\n",
    "To minimize the cost of the electricity generated\n",
    "(1.4*(A_1+...+A_24))+(1.4*(B_1+...+B_24))+(1.4*(C_1+...+C_24))+(1.4*(D_1+...+D_24))+(4.4*(E))+\n",
    "(4.4*(F))+(4.4*(G))+(9.1*(H_1+...+H_24))+(6.6*(I_1+...+I_24))+(6.6*(J_1+...+J_24))\n",
    "\n",
    "Constraints\n",
    "\n",
    "10  <= A_1..A_24 <= 100\n",
    "10  <= B_1..B_24 <= 80\n",
    "10  <= C_1..C_24 <= 60\n",
    "1   <= D_1..D_24 <= 10\n",
    "100 <= E <= 900\n",
    "100 <= F <= 600\n",
    "10  <= G <= 100\n",
    "100 <= H_1..H_24 <= 400\n",
    "0   <= I_1..I_24 <= 70\n",
    "0   <= J_1..J_24 <= 20\n",
    "\n",
    "All Solar Generators (I,J) produce different levels based on the amount of sunlight available.\n",
    "Total electricity generated in an hour by all the generators should be equal to the demand\n",
    "\n",
    "\"\"\"\n",
    "def GetInfo(filename):\n",
    "    df = pd.read_csv(filename, header=None, usecols=[0])\n",
    "    df.columns = [\"Info\"]\n",
    "    information = df[\"Info\"].values.tolist()\n",
    "    return information\n",
    "\n",
    "    \n",
    "def Generator():\n",
    "    \n",
    "    # Instantiate an LP solver using the GLOP solver\n",
    "    solver = pywraplp.Solver('Generator',\n",
    "                             pywraplp.Solver.GLOP_LINEAR_PROGRAMMING)\n",
    "    \n",
    "    LB = [10, 10, 10, 1, 100, 100, 10, 100, 0, 0]\n",
    "    UB = [100, 80, 60, 10, 900, 600, 100, 400, 70, 20]\n",
    "    Coeff = [1.4, 1.4, 1.4, 1.4, 4.4, 4.4, 4.4, 9.1, 6.6, 6.6]\n",
    "    num_hours = 24\n",
    "    Demand = GetInfo(\"demand.csv\")\n",
    "    Solarcurve = GetInfo(\"solar_curve.csv\")\n",
    "    \n",
    "    #DVs for Generator A\n",
    "    A = [solver.NumVar(LB[0], UB[0], f\"A{i}\") for i in range(num_hours)]\n",
    "    B = [solver.NumVar(LB[1], UB[1], f\"B{i}\") for i in range(num_hours)]\n",
    "    C = [solver.NumVar(LB[2], UB[2], f\"C{i}\") for i in range(num_hours)]\n",
    "    D = [solver.NumVar(LB[3], UB[3], f\"D{i}\") for i in range(num_hours)]\n",
    "    E = solver.NumVar(LB[4], UB[4], \"E\")\n",
    "    F = solver.NumVar(LB[5], UB[5], \"F\")\n",
    "    G = solver.NumVar(LB[6], UB[6], \"G\")\n",
    "    H = [solver.NumVar(LB[7], UB[7], f\"H{i}\") for i in range(num_hours)]\n",
    "    I = [solver.NumVar(LB[8], UB[8], f\"I{i}\") for i in range(num_hours)]\n",
    "    J = [solver.NumVar(LB[9], UB[9], f\"J{i}\") for i in range(num_hours)]\n",
    "    \n",
    "    #Constraints\n",
    "    #for j in range(num_hours):\n",
    "    for ai, bi, ci, di, hi, ii, ji, sol_i, dem_i in zip(A,B,C,D,H,I,J,Solarcurve, Demand):\n",
    "        #solver.Add(A[j] + B[j] + C[j] + D[j] + E + F + G + H[j] + Solarcurve[j]*I[j] + Solarcurve[j]*H[j] == Demand[j])\n",
    "        solver.Add(ai + bi + ci + di + E + F + G + hi + sol_i*ii + sol_i*ji == dem_i)\n",
    "    print(\"Num of Constraints: \", solver.NumConstraints())\n",
    "    \n",
    "    #Objective\n",
    "    objective = solver.Objective()\n",
    "    for j in range(num_hours):\n",
    "        objective.SetCoefficient(A[j], Coeff[0])\n",
    "        objective.SetCoefficient(B[j], Coeff[1])\n",
    "        objective.SetCoefficient(C[j], Coeff[2])\n",
    "        objective.SetCoefficient(D[j], Coeff[3])\n",
    "        objective.SetCoefficient(H[j], Coeff[7])\n",
    "        objective.SetCoefficient(I[j], Coeff[8])\n",
    "        objective.SetCoefficient(J[j], Coeff[9])\n",
    "    \n",
    "    objective.SetCoefficient(E, Coeff[4])\n",
    "    objective.SetCoefficient(F, Coeff[5])\n",
    "    objective.SetCoefficient(G, Coeff[6])\n",
    "    objective.SetMinimization()\n",
    "    \n",
    "    result = solver.Solve()\n",
    "    if result == solver.OPTIMAL:\n",
    "        for v in solver.variables():\n",
    "            print(f\"{v.name()} = {v.solution_value():.5}; coefficient {objective.GetCoefficient(v):.5}\")\n",
    "            \n",
    "        print(f\"Optimal objective value = {solver.Objective().Value()}\")\n",
    "        \n",
    "        print_solution_and_sensitivity(solver,objective)\n",
    "\n",
    "    else:\n",
    "        print(\"Problem is not feasible\")\n",
    "\n",
    "\n",
    "def print_solution_and_sensitivity(solver, objective):\n",
    "    \"\"\"This function prints the solution and extracts all the sensitivity information\n",
    "    that is easily available in OR-Tools. If the problem is IP, no\n",
    "    sensitivity information is available, so it just prints what it can.\"\"\"\n",
    "\n",
    "    # is this a continuous problem? we can do more sensitivity\n",
    "    # analysis if so.\n",
    "    continuous_problem = all(v.Integer() == False for v in solver.variables())\n",
    "\n",
    "    # the *reduced cost* for a variable is the change in objective\n",
    "    # coefficient for the variable which would be required to move the\n",
    "    # location of the optimum\n",
    "    \n",
    "        \n",
    "    for c, a in zip(solver.constraints(), solver.ComputeConstraintActivities()):\n",
    "        eps = 0.0000001\n",
    "        # a constraint is *binding* if it is actually preventing the\n",
    "        # optimum from improving -- the constraint line goes through\n",
    "        # the optimum. another way to see it: the activity equals the\n",
    "        # bound. another way: the dual is zero (the dual exists only\n",
    "        # for continuous problems). we print a \"*\" for binding\n",
    "        # constraints.\n",
    "        if continuous_problem:\n",
    "            binding = \"* \" if abs(c.DualValue()) > eps else \"  \"\n",
    "        else:\n",
    "            binding = \"* \" if (abs(c.ub() - a) < eps or abs(a - c.lb()) < eps) else \"  \"\n",
    "\n",
    "        ctxt = \" + \".join(f\"{c.GetCoefficient(v):.5}*{v.name()}\"\n",
    "                          for v in solver.variables())\n",
    "        \n",
    "        # the *dual value* aka *shadow price* of a constraint is the\n",
    "        # amount our profit could improve if the RHS of the constraint\n",
    "        # would improve by 1 unit. for non-binding constraints, the\n",
    "        # dual is 0. \n",
    "\n",
    "        if continuous_problem:\n",
    "\n",
    "            if c.lb() == float(\"-inf\"):\n",
    "                # it is a <= constraint\n",
    "                print(f\"{binding} {c.name()}: {ctxt} = {a:.5} <= {c.ub():.5}; dual {c.DualValue():.5}; slack {c.ub() - a:.5}\")\n",
    "            elif c.ub() == float(\"inf\"):\n",
    "                # it is a >= constraint\n",
    "                print(f\"{binding} {c.name()}: {ctxt} = {a:.5} >= {c.lb():.5}; dual {c.DualValue():.5}; slack {a - c.lb():.5}\")\n",
    "            else:\n",
    "                raise ValueError\n",
    "                \n",
    "        else:\n",
    "            if c.lb() == float(\"-inf\"):\n",
    "                # it is a <= constraint\n",
    "                print(f\"{binding} {c.name()}: {ctxt} = {a:.5} <= {c.ub():.5}; slack {c.ub() - a:.5}\")\n",
    "            elif c.ub() == float(\"inf\"):\n",
    "                # it is a >= constraint\n",
    "                print(f\"{binding} {c.name()}: {ctxt} = {a:.5} >= {c.lb():.5}; slack {a - c.lb():.5}\")\n",
    "            else:\n",
    "                raise ValueError\n",
    "\n",
    "\n",
    "Generator()"
   ]
  },
  {
   "cell_type": "code",
   "execution_count": 2,
   "metadata": {},
   "outputs": [
    {
     "output_type": "stream",
     "name": "stdout",
     "text": [
      "2\n0\n1\n"
     ]
    }
   ],
   "source": [
    "c = [15, 10]\n",
    "n = len(c)\n",
    "print(n)\n",
    "for x in range(n):\n",
    "    print(x)"
   ]
  },
  {
   "cell_type": "code",
   "execution_count": 3,
   "metadata": {},
   "outputs": [
    {
     "output_type": "stream",
     "name": "stdout",
     "text": [
      "[1461, 1446, 1446, 1438, 1425, 1420, 1467, 1503, 1507, 1504, 1504, 1502, 1498, 1496, 1492, 1492, 1492, 1509, 1518, 1517, 1515, 1496, 1479, 1463]\n"
     ]
    }
   ],
   "source": [
    "d = pd.read_csv(\"demand.csv\", header=None, usecols=[0])\n",
    "d.columns = [\"Demand\"]\n",
    "d.head()\n",
    "dem = d[\"Demand\"].values.tolist()\n",
    "print (dem)"
   ]
  },
  {
   "cell_type": "code",
   "execution_count": 16,
   "metadata": {},
   "outputs": [
    {
     "name": "stdout",
     "output_type": "stream",
     "text": [
      "Help on method NumVar in module ortools.linear_solver.pywraplp:\n",
      "\n",
      "NumVar(lb: 'double', ub: 'double', name: 'std::string const &') -> 'operations_research::MPVariable *' method of ortools.linear_solver.pywraplp.Solver instance\n",
      "\n"
     ]
    }
   ],
   "source": [
    "solver = pywraplp.Solver('Generator',\n",
    "                             pywraplp.Solver.GLOP_LINEAR_PROGRAMMING)\n",
    "help(solver.NumVar)"
   ]
  },
  {
   "cell_type": "code",
   "execution_count": 25,
   "metadata": {},
   "outputs": [
    {
     "name": "stdout",
     "output_type": "stream",
     "text": [
      "600\n"
     ]
    }
   ],
   "source": [
    "UB = [100, 80, 60, 10, 900, 600, 100, 400, 70, 20]\n",
    "C = [6]\n",
    "\n",
    "for j in range(10):\n",
    "    for ui,ci in zip(UB,C):\n",
    "    print(ui*ci)"
   ]
  },
  {
   "cell_type": "code",
   "execution_count": null,
   "metadata": {},
   "outputs": [],
   "source": []
  }
 ],
 "metadata": {
  "kernelspec": {
   "display_name": "Python 3",
   "language": "python",
   "name": "python3"
  },
  "language_info": {
   "codemirror_mode": {
    "name": "ipython",
    "version": 3
   },
   "file_extension": ".py",
   "mimetype": "text/x-python",
   "name": "python",
   "nbconvert_exporter": "python",
   "pygments_lexer": "ipython3",
   "version": "3.8.5-final"
  }
 },
 "nbformat": 4,
 "nbformat_minor": 4
}