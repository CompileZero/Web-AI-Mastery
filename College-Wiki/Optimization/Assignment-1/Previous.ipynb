{
 "metadata": {
  "language_info": {
   "codemirror_mode": {
    "name": "ipython",
    "version": 3
   },
   "file_extension": ".py",
   "mimetype": "text/x-python",
   "name": "python",
   "nbconvert_exporter": "python",
   "pygments_lexer": "ipython3",
   "version": "3.8.5-final"
  },
  "orig_nbformat": 2,
  "kernelspec": {
   "name": "Python 3.8.5 64-bit ('base': conda)",
   "display_name": "Python 3.8.5 64-bit ('base': conda)",
   "metadata": {
    "interpreter": {
     "hash": "9813166edd6a2c3e0869f9e28d7c3acab30093e832bd4281e69b80b2ada9f695"
    }
   }
  }
 },
 "nbformat": 4,
 "nbformat_minor": 2,
 "cells": [
  {
   "source": [
    "Student Name(s): Galvin Venugopal, Atharva Kulkarni\n",
    "Student ID(s): 20235245, 20231773\n",
    "Constraints:\n",
    "\n",
    "10 < A < 100\n",
    "\n"
   ],
   "cell_type": "markdown",
   "metadata": {}
  },
  {
   "cell_type": "code",
   "execution_count": 1,
   "metadata": {},
   "outputs": [],
   "source": [
    "from __future__ import print_function\n",
    "from ortools.linear_solver import pywraplp"
   ]
  },
  {
   "cell_type": "code",
   "execution_count": 21,
   "metadata": {},
   "outputs": [
    {
     "output_type": "stream",
     "name": "stdout",
     "text": [
      "Number of variables = 4\nNumber of constraints = 1\nSolution:\nObjective value = 43.4\npa = 10.0\npb = 10.0\npc = 10.0\npd = 1.0\n"
     ]
    }
   ],
   "source": [
    "def main():\n",
    "    # Create the linear solver with the GLOP backend.\n",
    "    solver = pywraplp.Solver.CreateSolver('GLOP')\n",
    "\n",
    "    # Create the variables pa, pb, pc, pd.\n",
    "    pa = solver.NumVar(10, 100, 'pa')\n",
    "    pb = solver.NumVar(10, 80, 'pb')\n",
    "    pc = solver.NumVar(10, 60, 'pc')\n",
    "    pd = solver.NumVar(1, 10, 'pd')\n",
    "\n",
    "    print('Number of variables =', solver.NumVariables())\n",
    "\n",
    "    # Create a linear constraint, 0 <= x + y <= 2.\n",
    "    ct = solver.Constraint(0,1461, 'ct')\n",
    "    \n",
    "    ct.SetCoefficient(pa, 1)\n",
    "    ct.SetCoefficient(pb, 1)\n",
    "    ct.SetCoefficient(pc, 1)\n",
    "    ct.SetCoefficient(pd, 1)\n",
    "\n",
    "    print('Number of constraints =', solver.NumConstraints())\n",
    "\n",
    "    # Create the objective function, 1.4.\n",
    "    objective = solver.Objective()\n",
    "    objective.SetCoefficient(pa, 1.4)\n",
    "    objective.SetCoefficient(pb, 1.4)\n",
    "    objective.SetCoefficient(pc, 1.4)\n",
    "    objective.SetCoefficient(pd, 1.4)\n",
    "    objective.SetMinimization()\n",
    "\n",
    "    solver.Solve()\n",
    "\n",
    "    print('Solution:')\n",
    "    print('Objective value =', objective.Value())\n",
    "    print('pa =', pa.solution_value())\n",
    "    print('pb =', pb.solution_value())\n",
    "    print('pc =', pc.solution_value())\n",
    "    print('pd =', pd.solution_value())\n",
    "\n",
    "\n",
    "if __name__ == '__main__':\n",
    "    main()"
   ]
  },
  {
   "cell_type": "code",
   "execution_count": null,
   "metadata": {},
   "outputs": [],
   "source": []
  }
 ]
}