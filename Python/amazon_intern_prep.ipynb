{
 "metadata": {
  "language_info": {
   "codemirror_mode": {
    "name": "ipython",
    "version": 3
   },
   "file_extension": ".py",
   "mimetype": "text/x-python",
   "name": "python",
   "nbconvert_exporter": "python",
   "pygments_lexer": "ipython3",
   "version": "3.8.5-final"
  },
  "orig_nbformat": 2,
  "kernelspec": {
   "name": "python3",
   "display_name": "Python 3"
  }
 },
 "nbformat": 4,
 "nbformat_minor": 2,
 "cells": [
  {
   "source": [
    "### Runlength encoding:\n",
    "\n",
    "Input (String): aaaabbccddaa\n",
    "Output: 4a2b2c2d2a"
   ],
   "cell_type": "markdown",
   "metadata": {}
  },
  {
   "cell_type": "code",
   "execution_count": 42,
   "metadata": {},
   "outputs": [
    {
     "output_type": "stream",
     "name": "stdout",
     "text": [
      "Error: Cannot encode blank or None values.\nError: Cannot encode blank or None values.\n1\n"
     ]
    }
   ],
   "source": [
    "def encode(data):\n",
    "    \"\"\"\n",
    "    AAACCCDDDBBAA -> 3A3C3D2B2A\n",
    "\n",
    "    1. count, encoded_Data, prev_char \n",
    "        check for prev_char:\n",
    "            yes ->\n",
    "            Check if char == prev_char:\n",
    "                yes -> increment count\n",
    "                no ->  \n",
    "                    1. Append \"count + prev_char\" to the final_string,\n",
    "                    2. prev_char = char\n",
    "            \n",
    "            no ->\n",
    "\n",
    "    \"\"\"\n",
    "\n",
    "    encoded_data = \"\"\n",
    "    prev_char = \"\"\n",
    "    count = 1\n",
    "    \n",
    "\n",
    "    if not data.strip():\n",
    "        return \"Error: Cannot encode blank or None values.\"\n",
    "    \n",
    "    for char in data:\n",
    "        \n",
    "\n",
    "print(encode(\" \"))\n",
    "print(encode(\"\"))\n",
    "print(encode(\"AAA\"))"
   ]
  },
  {
   "cell_type": "code",
   "execution_count": 22,
   "metadata": {},
   "outputs": [
    {
     "output_type": "stream",
     "name": "stdout",
     "text": [
      "AAAAAAFDDCCCCCCCAEEEEEEEEEEEEEEEEE\n"
     ]
    }
   ],
   "source": [
    "def rle_decode(data):\n",
    "    decode = ''\n",
    "    count = ''\n",
    "    for char in data:\n",
    "        # If the character is numerical...\n",
    "        if char.isdigit():\n",
    "            # ...append it to our count\n",
    "            count += char\n",
    "        else:\n",
    "            # Otherwise we've seen a non-numerical\n",
    "            # character and need to expand it for\n",
    "            # the decoding\n",
    "            decode += char * int(count)\n",
    "            count = ''\n",
    "    return decode\n",
    "decoded_val = rle_decode('6A1F2D7C1A17E')\n",
    "print(decoded_val)"
   ]
  },
  {
   "source": [
    "Check if string is Palindrome"
   ],
   "cell_type": "markdown",
   "metadata": {}
  },
  {
   "cell_type": "code",
   "execution_count": 6,
   "metadata": {},
   "outputs": [
    {
     "output_type": "stream",
     "name": "stdout",
     "text": [
      "olleH\n"
     ]
    },
    {
     "output_type": "error",
     "ename": "TypeError",
     "evalue": "translate() takes exactly one argument (2 given)",
     "traceback": [
      "\u001b[0;31m---------------------------------------------------------------------------\u001b[0m",
      "\u001b[0;31mTypeError\u001b[0m                                 Traceback (most recent call last)",
      "\u001b[0;32m<ipython-input-6-a197600be214>\u001b[0m in \u001b[0;36m<module>\u001b[0;34m\u001b[0m\n\u001b[1;32m     14\u001b[0m     \u001b[0;32mreturn\u001b[0m \u001b[0ms\u001b[0m \u001b[0;34m==\u001b[0m \u001b[0mreversed\u001b[0m\u001b[0;34m(\u001b[0m\u001b[0ms\u001b[0m\u001b[0;34m)\u001b[0m\u001b[0;34m\u001b[0m\u001b[0;34m\u001b[0m\u001b[0m\n\u001b[1;32m     15\u001b[0m \u001b[0;34m\u001b[0m\u001b[0m\n\u001b[0;32m---> 16\u001b[0;31m \u001b[0misPalindrome\u001b[0m\u001b[0;34m(\u001b[0m\u001b[0;34m\"Dammit im mad\"\u001b[0m\u001b[0;34m)\u001b[0m\u001b[0;34m\u001b[0m\u001b[0;34m\u001b[0m\u001b[0m\n\u001b[0m",
      "\u001b[0;32m<ipython-input-6-a197600be214>\u001b[0m in \u001b[0;36misPalindrome\u001b[0;34m(s)\u001b[0m\n\u001b[1;32m     10\u001b[0m \u001b[0;32mdef\u001b[0m \u001b[0misPalindrome\u001b[0m\u001b[0;34m(\u001b[0m\u001b[0ms\u001b[0m\u001b[0;34m)\u001b[0m\u001b[0;34m:\u001b[0m\u001b[0;34m\u001b[0m\u001b[0;34m\u001b[0m\u001b[0m\n\u001b[1;32m     11\u001b[0m     \u001b[0ms\u001b[0m \u001b[0;34m=\u001b[0m \u001b[0ms\u001b[0m\u001b[0;34m.\u001b[0m\u001b[0mlower\u001b[0m\u001b[0;34m(\u001b[0m\u001b[0;34m)\u001b[0m\u001b[0;34m\u001b[0m\u001b[0;34m\u001b[0m\u001b[0m\n\u001b[0;32m---> 12\u001b[0;31m     \u001b[0ms\u001b[0m \u001b[0;34m=\u001b[0m \u001b[0ms\u001b[0m\u001b[0;34m.\u001b[0m\u001b[0mtranslate\u001b[0m\u001b[0;34m(\u001b[0m\u001b[0;32mNone\u001b[0m\u001b[0;34m,\u001b[0m \u001b[0mstring\u001b[0m\u001b[0;34m.\u001b[0m\u001b[0mpunctuation\u001b[0m\u001b[0;34m)\u001b[0m\u001b[0;34m\u001b[0m\u001b[0;34m\u001b[0m\u001b[0m\n\u001b[0m\u001b[1;32m     13\u001b[0m     \u001b[0ms\u001b[0m \u001b[0;34m=\u001b[0m \u001b[0ms\u001b[0m\u001b[0;34m.\u001b[0m\u001b[0mreplace\u001b[0m\u001b[0;34m(\u001b[0m\u001b[0;34m\" \"\u001b[0m\u001b[0;34m,\u001b[0m\u001b[0;34m\"\"\u001b[0m\u001b[0;34m)\u001b[0m\u001b[0;34m\u001b[0m\u001b[0;34m\u001b[0m\u001b[0m\n\u001b[1;32m     14\u001b[0m     \u001b[0;32mreturn\u001b[0m \u001b[0ms\u001b[0m \u001b[0;34m==\u001b[0m \u001b[0mreversed\u001b[0m\u001b[0;34m(\u001b[0m\u001b[0ms\u001b[0m\u001b[0;34m)\u001b[0m\u001b[0;34m\u001b[0m\u001b[0;34m\u001b[0m\u001b[0m\n",
      "\u001b[0;31mTypeError\u001b[0m: translate() takes exactly one argument (2 given)"
     ]
    }
   ],
   "source": [
    "\n",
    "def isPalindrome_1(s):\n",
    "    s = s.lower()\n",
    "    table = str.maketrans(dict.fromkeys(string.punctuation))\n",
    "    s = s.translate(table)\n",
    "    s = s.replace(\" \",\"\")\n",
    "    print(reversed(s))\n",
    "    return s == ''.join(reversed(s))\n",
    "\n",
    "print(isPalindrome(\"Dammit i'm mad\"))\n",
    "\n",
    "isPalindrome(\"Dammit im mad\")"
   ]
  },
  {
   "cell_type": "code",
   "execution_count": null,
   "metadata": {},
   "outputs": [],
   "source": []
  }
 ]
}