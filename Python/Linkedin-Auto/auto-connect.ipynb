{
 "metadata": {
  "language_info": {
   "codemirror_mode": {
    "name": "ipython",
    "version": 3
   },
   "file_extension": ".py",
   "mimetype": "text/x-python",
   "name": "python",
   "nbconvert_exporter": "python",
   "pygments_lexer": "ipython3",
   "version": "3.8.5-final"
  },
  "orig_nbformat": 2,
  "kernelspec": {
   "name": "Python 3.8.5 64-bit ('base': conda)",
   "display_name": "Python 3.8.5 64-bit ('base': conda)",
   "metadata": {
    "interpreter": {
     "hash": "9813166edd6a2c3e0869f9e28d7c3acab30093e832bd4281e69b80b2ada9f695"
    }
   }
  }
 },
 "nbformat": 4,
 "nbformat_minor": 2,
 "cells": [
  {
   "cell_type": "code",
   "execution_count": 1,
   "metadata": {},
   "outputs": [],
   "source": [
    "import os, random, sys, time\n",
    "from urllib.parse import urlparse\n",
    "from selenium import webdriver\n",
    "from bs4 import BeautifulSoup"
   ]
  },
  {
   "cell_type": "code",
   "execution_count": 3,
   "metadata": {},
   "outputs": [],
   "source": [
    "browser = webdriver.Chrome('./driver/chromedriver')"
   ]
  },
  {
   "cell_type": "code",
   "execution_count": 4,
   "metadata": {},
   "outputs": [],
   "source": [
    "browser.get('https://www.linkedin.com/login')"
   ]
  },
  {
   "cell_type": "code",
   "execution_count": 5,
   "metadata": {},
   "outputs": [],
   "source": [
    "file = open('./config.txt')\n",
    "lines = file.readlines()\n",
    "username = lines[0]\n",
    "password = lines[1]"
   ]
  },
  {
   "source": [
    "elementID = browser.find_element_by_id('username')\n",
    "elementID.send_keys(username)"
   ],
   "cell_type": "code",
   "metadata": {},
   "execution_count": 6,
   "outputs": []
  },
  {
   "cell_type": "code",
   "execution_count": 7,
   "metadata": {},
   "outputs": [],
   "source": [
    "elementID = browser.find_element_by_id('password')\n",
    "elementID.send_keys(password)"
   ]
  },
  {
   "cell_type": "code",
   "execution_count": 8,
   "metadata": {},
   "outputs": [],
   "source": [
    "elementID.submit()"
   ]
  },
  {
   "cell_type": "code",
   "execution_count": 9,
   "metadata": {},
   "outputs": [],
   "source": [
    "elementID = browser.find_element_by_class_name('search-global-typeahead__input')\n",
    "elementID.send_keys('Eaton')"
   ]
  },
  {
   "cell_type": "code",
   "execution_count": 11,
   "metadata": {},
   "outputs": [],
   "source": [
    "visitedProfiles = []\n",
    "profilesQueued = []"
   ]
  },
  {
   "cell_type": "code",
   "execution_count": 113,
   "metadata": {
    "tags": []
   },
   "outputs": [],
   "source": [
    "def getNewProfileIDs(soup, profilesQueued):\n",
    "    profilesID = []\n",
    "    pav = soup.find('div', {'class': 'blended-srp-results-js pt0 pb4 ph0 container-with-shadow artdeco-card'})\n",
    "    # def only_a_links(class):\n",
    "    #     return class is 'search-result__result-link ember-view' and \n",
    "    all_links = pav.findAll('a', {'class':'search-result__result-link ember-view'})\n",
    "    all_divs = pav.findAll('li',{'search-result search-result__occluded-item ember-view'})\n",
    "    # print(all_links)\n",
    "    for user_div in all_divs:\n",
    "        \n",
    "        connect_btn = user_div.find('button',{'class':'search-result__action-button search-result__actions--primary artdeco-button artdeco-button--default artdeco-button--2 artdeco-button--secondary'})\n",
    "        # connect_btn_class = connect_btn.get('class')\n",
    "        # browser.find_element_by_xpath(\"//button[@class='mr1 artdeco-button artdeco-button--muted artdeco-button--3 artdeco-button--secondary ember-view']\").click()\n",
    "        if connect_btn is not None:\n",
    "            connect_btn_class = ' '.join(connect_btn.get('class'))\n",
    "            print(connect_btn_class)\n",
    "            browser.find_element_by_xpath(f\"//button[@class='{connect_btn_class}']\").click()\n",
    "            browser.find_element_by_xpath(\"//button[@class='mr1 artdeco-button artdeco-button--muted artdeco-button--3 artdeco-button--secondary ember-view']\").click()\n",
    "            invitee_name = browser.find_element_by_id('send-invite-modal').text.split()[1]\n",
    "            print(invitee_name)\n",
    "            \n",
    "            browser.find_element_by_class_name('send-invite__custom-message').send_keys(f\"Hello {invitee_name},\\nI have have begun my master's programme at NUI Galway in Artificial Intelligence, and have also applied for the Rotational Programme at Eaton! So, sending you a connection request:)\")\n",
    "            browser.find_element_by_xpath(\"//button[@class='ml1 artdeco-button artdeco-button--3 artdeco-button--primary ember-view']\").click()\n",
    "\n",
    "    for link in all_links:\n",
    "        print(type(link))\n",
    "        userID = link.get('href')\n",
    "        if((userID not in profilesQueued) and (userID not in visitedProfiles)):\n",
    "            profilesID.append(userID)\n",
    "    return profilesID\n",
    "new_profiles = getNewProfileIDs(BeautifulSoup(browser.page_source), profilesQueued)\n",
    "new_profiles = list(dict.fromkeys(new_profiles))\n",
    "print(new_profiles)"
   ]
  },
  {
   "cell_type": "code",
   "execution_count": 82,
   "metadata": {},
   "outputs": [
    {
     "output_type": "stream",
     "name": "stdout",
     "text": [
      "Nidhi\n"
     ]
    }
   ],
   "source": [
    "baseURL = \"https://www.linkedin.com\"\n",
    "for url in new_profiles:\n",
    "    browser.get(baseURL+url)\n",
    "    browser.find_element_by_class_name('pv-s-profile-actions').click()\n",
    "    browser.find_element_by_xpath(\"//button[@class='mr1 artdeco-button artdeco-button--muted artdeco-button--3 artdeco-button--secondary ember-view']\").click()\n",
    "    invitee_name = browser.find_element_by_id('send-invite-modal').text.split()[1]\n",
    "    print(invitee_name)\n",
    "    browser.find_element_by_class_name('send-invite__custom-message').send_keys(f\"Hello {invitee_name},\\nI have have begun my master's programme at NUI Galway in Artificial Intelligence, and have also applied for the Rotational Programme at Eaton! So, sending you a connection request:)\")\n",
    "    \n",
    "\n",
    "# browser.switch_to.window(browser.window_handles[0])\n",
    "# browser.execute_script(f\"window.open('{baseURL}');\")\n",
    "# browser.get(baseURL)\n",
    "# browser.switch_to.window(browser.window_handles[1])\n",
    "# browser.find_element_by_class_name('mr1 artdeco-button artdeco-button--muted artdeco-button--3 artdeco-button--secondary').click()"
   ]
  },
  {
   "cell_type": "code",
   "execution_count": null,
   "metadata": {},
   "outputs": [],
   "source": []
  }
 ]
}