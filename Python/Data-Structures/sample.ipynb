{
 "metadata": {
  "language_info": {
   "codemirror_mode": {
    "name": "ipython",
    "version": 3
   },
   "file_extension": ".py",
   "mimetype": "text/x-python",
   "name": "python",
   "nbconvert_exporter": "python",
   "pygments_lexer": "ipython3",
   "version": "3.8.5-final"
  },
  "orig_nbformat": 2,
  "kernelspec": {
   "name": "python3",
   "display_name": "Python 3"
  }
 },
 "nbformat": 4,
 "nbformat_minor": 2,
 "cells": [
  {
   "cell_type": "code",
   "execution_count": 12,
   "metadata": {},
   "outputs": [
    {
     "output_type": "stream",
     "name": "stdout",
     "text": [
      "{'rose': 2, 'flower': 2, 'red': 1}\n[('rose', 2), ('flower', 2), ('red', 1)]\n['rose', 'flower']\n"
     ]
    }
   ],
   "source": [
    "\"\"\"\n",
    "helpText = \"Flower \n",
    "\n",
    "exclude = [is are a]\n",
    "\n",
    "Flower rose, rose flower\n",
    "\n",
    "\n",
    "\"\"\"\n",
    "\n",
    "helpText = \"Rose is a flower red rose are flower\"\n",
    "\n",
    "def getMostFreqWords(helpText, wordsToExclude):\n",
    "    finalText = []\n",
    "    helpText = helpText.lower()\n",
    "    counts = dict()\n",
    "    for i in helpText.split():\n",
    "        if i not in wordsToExclude:\n",
    "            finalText.append(i)\n",
    "    for i in finalText:\n",
    "        counts[i] = finalText.count(i)\n",
    "    \n",
    "    print(counts)\n",
    "    \n",
    "    counts_s = sorted(counts.items(), key = lambda kv: kv[1], reverse=True)\n",
    "    print(counts_s)\n",
    "    final_list = []\n",
    "    for j,word in enumerate(counts_s):\n",
    "        if counts_s[j][1] == counts_s[0][1]:\n",
    "            final_list.append(word[0])\n",
    "    print(final_list)\n",
    "\n",
    "getMostFreqWords(helpText, [\"is\", \"a\", \"are\"])"
   ]
  },
  {
   "cell_type": "code",
   "execution_count": null,
   "metadata": {},
   "outputs": [],
   "source": []
  }
 ]
}